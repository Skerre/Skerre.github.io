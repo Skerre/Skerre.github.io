{
 "cells": [
  {
   "cell_type": "code",
   "execution_count": 71,
   "id": "1d2d919d",
   "metadata": {},
   "outputs": [],
   "source": [
    "import geopandas as gpd\n",
    "import pandas as pd\n",
    "from sklearn.preprocessing import StandardScaler, MinMaxScaler\n",
    "import numpy as np"
   ]
  },
  {
   "cell_type": "code",
   "execution_count": 80,
   "id": "991dc13f",
   "metadata": {},
   "outputs": [],
   "source": [
    "df = gpd.read_file(\"alb2_rwi_1_0mean.geojson\")"
   ]
  },
  {
   "cell_type": "code",
   "execution_count": 81,
   "id": "cccd7fbd",
   "metadata": {},
   "outputs": [
    {
     "data": {
      "text/plain": [
       "Index(['NAME_0', 'NAME_1', '_mean', 'rwi_max', 'rwi_mean', 'rwi_median',\n",
       "       'sc_mean', 'sc_mean_std', 'sc_mean_std2', 'geometry'],\n",
       "      dtype='object')"
      ]
     },
     "execution_count": 81,
     "metadata": {},
     "output_type": "execute_result"
    }
   ],
   "source": [
    "df.columns"
   ]
  },
  {
   "cell_type": "code",
   "execution_count": 76,
   "id": "1dc9c03b",
   "metadata": {},
   "outputs": [
    {
     "data": {
      "text/html": [
       "<div>\n",
       "<style scoped>\n",
       "    .dataframe tbody tr th:only-of-type {\n",
       "        vertical-align: middle;\n",
       "    }\n",
       "\n",
       "    .dataframe tbody tr th {\n",
       "        vertical-align: top;\n",
       "    }\n",
       "\n",
       "    .dataframe thead th {\n",
       "        text-align: right;\n",
       "    }\n",
       "</style>\n",
       "<table border=\"1\" class=\"dataframe\">\n",
       "  <thead>\n",
       "    <tr style=\"text-align: right;\">\n",
       "      <th></th>\n",
       "      <th>NAME_0</th>\n",
       "      <th>NAME_1</th>\n",
       "      <th>NAME_2</th>\n",
       "      <th>_mean</th>\n",
       "      <th>rwi_max</th>\n",
       "      <th>rwi_mean</th>\n",
       "      <th>rwi_median</th>\n",
       "      <th>sc_mean</th>\n",
       "      <th>geometry</th>\n",
       "    </tr>\n",
       "  </thead>\n",
       "  <tbody>\n",
       "    <tr>\n",
       "      <th>0</th>\n",
       "      <td>Albania</td>\n",
       "      <td>Tiranë</td>\n",
       "      <td>Kavajës</td>\n",
       "      <td>-0.807</td>\n",
       "      <td>1.163</td>\n",
       "      <td>0.028854</td>\n",
       "      <td>-0.0115</td>\n",
       "      <td>0.643028</td>\n",
       "      <td>MULTIPOLYGON (((19.54398 41.26376, 19.54741 41...</td>\n",
       "    </tr>\n",
       "    <tr>\n",
       "      <th>1</th>\n",
       "      <td>Albania</td>\n",
       "      <td>Tiranë</td>\n",
       "      <td>Tiranës</td>\n",
       "      <td>-0.946</td>\n",
       "      <td>1.866</td>\n",
       "      <td>0.199047</td>\n",
       "      <td>0.0645</td>\n",
       "      <td>0.753785</td>\n",
       "      <td>MULTIPOLYGON (((19.99180 41.44439, 19.99849 41...</td>\n",
       "    </tr>\n",
       "    <tr>\n",
       "      <th>2</th>\n",
       "      <td>Albania</td>\n",
       "      <td>Vlorë</td>\n",
       "      <td>Delvinës</td>\n",
       "      <td>-0.881</td>\n",
       "      <td>0.752</td>\n",
       "      <td>-0.128229</td>\n",
       "      <td>-0.1605</td>\n",
       "      <td>0.701992</td>\n",
       "      <td>MULTIPOLYGON (((19.95138 40.05125, 19.96300 40...</td>\n",
       "    </tr>\n",
       "    <tr>\n",
       "      <th>3</th>\n",
       "      <td>Albania</td>\n",
       "      <td>Vlorë</td>\n",
       "      <td>Sarandës</td>\n",
       "      <td>-0.663</td>\n",
       "      <td>1.042</td>\n",
       "      <td>0.049405</td>\n",
       "      <td>-0.0620</td>\n",
       "      <td>0.528287</td>\n",
       "      <td>MULTIPOLYGON (((20.12708 39.64958, 20.12708 39...</td>\n",
       "    </tr>\n",
       "    <tr>\n",
       "      <th>4</th>\n",
       "      <td>Albania</td>\n",
       "      <td>Vlorë</td>\n",
       "      <td>Vlorës</td>\n",
       "      <td>-0.717</td>\n",
       "      <td>1.495</td>\n",
       "      <td>0.013196</td>\n",
       "      <td>-0.0730</td>\n",
       "      <td>0.571315</td>\n",
       "      <td>MULTIPOLYGON (((19.27069 40.51430, 19.27069 40...</td>\n",
       "    </tr>\n",
       "  </tbody>\n",
       "</table>\n",
       "</div>"
      ],
      "text/plain": [
       "    NAME_0  NAME_1    NAME_2  _mean  rwi_max  rwi_mean  rwi_median   sc_mean  \\\n",
       "0  Albania  Tiranë   Kavajës -0.807    1.163  0.028854     -0.0115  0.643028   \n",
       "1  Albania  Tiranë   Tiranës -0.946    1.866  0.199047      0.0645  0.753785   \n",
       "2  Albania   Vlorë  Delvinës -0.881    0.752 -0.128229     -0.1605  0.701992   \n",
       "3  Albania   Vlorë  Sarandës -0.663    1.042  0.049405     -0.0620  0.528287   \n",
       "4  Albania   Vlorë    Vlorës -0.717    1.495  0.013196     -0.0730  0.571315   \n",
       "\n",
       "                                            geometry  \n",
       "0  MULTIPOLYGON (((19.54398 41.26376, 19.54741 41...  \n",
       "1  MULTIPOLYGON (((19.99180 41.44439, 19.99849 41...  \n",
       "2  MULTIPOLYGON (((19.95138 40.05125, 19.96300 40...  \n",
       "3  MULTIPOLYGON (((20.12708 39.64958, 20.12708 39...  \n",
       "4  MULTIPOLYGON (((19.27069 40.51430, 19.27069 40...  "
      ]
     },
     "execution_count": 76,
     "metadata": {},
     "output_type": "execute_result"
    }
   ],
   "source": [
    "df.head()"
   ]
  },
  {
   "cell_type": "code",
   "execution_count": 65,
   "id": "56c0506a",
   "metadata": {},
   "outputs": [],
   "source": [
    "# df2 = df[\"sc_mean\"].replace(df[\"sc_mean\"]<25, 0)\n",
    "\n",
    "df['sc_mean'].values[df['sc_mean'].values > 30] = 1\n",
    "df['sc_mean'].values[df['sc_mean'].values != 1] = 0"
   ]
  },
  {
   "cell_type": "code",
   "execution_count": 59,
   "id": "26fdfa60",
   "metadata": {},
   "outputs": [],
   "source": [
    "df['sc_mean'].values[df['sc_mean'].values == 1] = None"
   ]
  },
  {
   "cell_type": "code",
   "execution_count": null,
   "id": "4b97e556",
   "metadata": {},
   "outputs": [],
   "source": [
    "df['sc_mean']"
   ]
  },
  {
   "cell_type": "code",
   "execution_count": 83,
   "id": "47385e2f",
   "metadata": {},
   "outputs": [],
   "source": [
    "df.to_file(\"alb2_rwi_1_0mean.geojson\", driver='GeoJSON')"
   ]
  },
  {
   "cell_type": "code",
   "execution_count": 19,
   "id": "31ab8ade",
   "metadata": {},
   "outputs": [],
   "source": [
    "scaler = StandardScaler()\n",
    "scaler2 = MinMaxScaler()\n",
    "t = np.asarray(df[\"sc_mean\"])\n",
    "t3 = np.asarray(df[\"_median\"])\n",
    "t = t.reshape(-1,1)\n",
    "t3 = t.reshape(-1,1)\n",
    "arr = scaler.fit_transform(t)\n",
    "arr2 = scaler2.fit_transform(t)\n",
    "arr3 = scaler2.fit_transform(t3)\n",
    "df[\"sc_mean\"] = arr2\n",
    "df[\"sc_mean_std2\"] = arr\n",
    "df[\"_median\"] = arr3"
   ]
  },
  {
   "cell_type": "code",
   "execution_count": 20,
   "id": "740b0301",
   "metadata": {},
   "outputs": [
    {
     "data": {
      "text/html": [
       "<div>\n",
       "<style scoped>\n",
       "    .dataframe tbody tr th:only-of-type {\n",
       "        vertical-align: middle;\n",
       "    }\n",
       "\n",
       "    .dataframe tbody tr th {\n",
       "        vertical-align: top;\n",
       "    }\n",
       "\n",
       "    .dataframe thead th {\n",
       "        text-align: right;\n",
       "    }\n",
       "</style>\n",
       "<table border=\"1\" class=\"dataframe\">\n",
       "  <thead>\n",
       "    <tr style=\"text-align: right;\">\n",
       "      <th></th>\n",
       "      <th>sc_mean</th>\n",
       "      <th>_median</th>\n",
       "      <th>_stdev</th>\n",
       "    </tr>\n",
       "  </thead>\n",
       "  <tbody>\n",
       "    <tr>\n",
       "      <th>count</th>\n",
       "      <td>378.000000</td>\n",
       "      <td>378.000000</td>\n",
       "      <td>378.000000</td>\n",
       "    </tr>\n",
       "    <tr>\n",
       "      <th>mean</th>\n",
       "      <td>0.630555</td>\n",
       "      <td>0.630555</td>\n",
       "      <td>0.054633</td>\n",
       "    </tr>\n",
       "    <tr>\n",
       "      <th>std</th>\n",
       "      <td>0.167099</td>\n",
       "      <td>0.167099</td>\n",
       "      <td>0.023042</td>\n",
       "    </tr>\n",
       "    <tr>\n",
       "      <th>min</th>\n",
       "      <td>0.000000</td>\n",
       "      <td>0.000000</td>\n",
       "      <td>0.017259</td>\n",
       "    </tr>\n",
       "    <tr>\n",
       "      <th>25%</th>\n",
       "      <td>0.547088</td>\n",
       "      <td>0.547088</td>\n",
       "      <td>0.037793</td>\n",
       "    </tr>\n",
       "    <tr>\n",
       "      <th>50%</th>\n",
       "      <td>0.646710</td>\n",
       "      <td>0.646710</td>\n",
       "      <td>0.050325</td>\n",
       "    </tr>\n",
       "    <tr>\n",
       "      <th>75%</th>\n",
       "      <td>0.757470</td>\n",
       "      <td>0.757470</td>\n",
       "      <td>0.065752</td>\n",
       "    </tr>\n",
       "    <tr>\n",
       "      <th>max</th>\n",
       "      <td>1.000000</td>\n",
       "      <td>1.000000</td>\n",
       "      <td>0.145698</td>\n",
       "    </tr>\n",
       "  </tbody>\n",
       "</table>\n",
       "</div>"
      ],
      "text/plain": [
       "          sc_mean     _median      _stdev\n",
       "count  378.000000  378.000000  378.000000\n",
       "mean     0.630555    0.630555    0.054633\n",
       "std      0.167099    0.167099    0.023042\n",
       "min      0.000000    0.000000    0.017259\n",
       "25%      0.547088    0.547088    0.037793\n",
       "50%      0.646710    0.646710    0.050325\n",
       "75%      0.757470    0.757470    0.065752\n",
       "max      1.000000    1.000000    0.145698"
      ]
     },
     "execution_count": 20,
     "metadata": {},
     "output_type": "execute_result"
    }
   ],
   "source": [
    "df[['NAME_1', 'NAME_2', 'NAME_3', 'sc_mean', '_median', '_stdev']].describe()"
   ]
  },
  {
   "cell_type": "code",
   "execution_count": 82,
   "id": "22484b39",
   "metadata": {},
   "outputs": [],
   "source": [
    "# invert sc mean from low to high\n",
    "\n",
    "df[\"sc_mean\"] = 1 - df[\"sc_mean\"]\n",
    "# df[\"_median\"] = 1 - df[\"_median\"]"
   ]
  },
  {
   "cell_type": "code",
   "execution_count": 24,
   "id": "f623bf9b",
   "metadata": {},
   "outputs": [
    {
     "data": {
      "text/html": [
       "<div>\n",
       "<style scoped>\n",
       "    .dataframe tbody tr th:only-of-type {\n",
       "        vertical-align: middle;\n",
       "    }\n",
       "\n",
       "    .dataframe tbody tr th {\n",
       "        vertical-align: top;\n",
       "    }\n",
       "\n",
       "    .dataframe thead th {\n",
       "        text-align: right;\n",
       "    }\n",
       "</style>\n",
       "<table border=\"1\" class=\"dataframe\">\n",
       "  <thead>\n",
       "    <tr style=\"text-align: right;\">\n",
       "      <th></th>\n",
       "      <th>sc_mean</th>\n",
       "      <th>_median</th>\n",
       "      <th>_stdev</th>\n",
       "    </tr>\n",
       "  </thead>\n",
       "  <tbody>\n",
       "    <tr>\n",
       "      <th>count</th>\n",
       "      <td>3.780000e+02</td>\n",
       "      <td>3.780000e+02</td>\n",
       "      <td>378.000000</td>\n",
       "    </tr>\n",
       "    <tr>\n",
       "      <th>mean</th>\n",
       "      <td>3.694455e-01</td>\n",
       "      <td>3.694455e-01</td>\n",
       "      <td>0.054633</td>\n",
       "    </tr>\n",
       "    <tr>\n",
       "      <th>std</th>\n",
       "      <td>1.670993e-01</td>\n",
       "      <td>1.670993e-01</td>\n",
       "      <td>0.023042</td>\n",
       "    </tr>\n",
       "    <tr>\n",
       "      <th>min</th>\n",
       "      <td>1.110223e-16</td>\n",
       "      <td>1.110223e-16</td>\n",
       "      <td>0.017259</td>\n",
       "    </tr>\n",
       "    <tr>\n",
       "      <th>25%</th>\n",
       "      <td>2.425301e-01</td>\n",
       "      <td>2.425301e-01</td>\n",
       "      <td>0.037793</td>\n",
       "    </tr>\n",
       "    <tr>\n",
       "      <th>50%</th>\n",
       "      <td>3.532902e-01</td>\n",
       "      <td>3.532902e-01</td>\n",
       "      <td>0.050325</td>\n",
       "    </tr>\n",
       "    <tr>\n",
       "      <th>75%</th>\n",
       "      <td>4.529118e-01</td>\n",
       "      <td>4.529118e-01</td>\n",
       "      <td>0.065752</td>\n",
       "    </tr>\n",
       "    <tr>\n",
       "      <th>max</th>\n",
       "      <td>1.000000e+00</td>\n",
       "      <td>1.000000e+00</td>\n",
       "      <td>0.145698</td>\n",
       "    </tr>\n",
       "  </tbody>\n",
       "</table>\n",
       "</div>"
      ],
      "text/plain": [
       "            sc_mean       _median      _stdev\n",
       "count  3.780000e+02  3.780000e+02  378.000000\n",
       "mean   3.694455e-01  3.694455e-01    0.054633\n",
       "std    1.670993e-01  1.670993e-01    0.023042\n",
       "min    1.110223e-16  1.110223e-16    0.017259\n",
       "25%    2.425301e-01  2.425301e-01    0.037793\n",
       "50%    3.532902e-01  3.532902e-01    0.050325\n",
       "75%    4.529118e-01  4.529118e-01    0.065752\n",
       "max    1.000000e+00  1.000000e+00    0.145698"
      ]
     },
     "execution_count": 24,
     "metadata": {},
     "output_type": "execute_result"
    }
   ],
   "source": [
    "df[['NAME_1', 'NAME_2', 'NAME_3', 'sc_mean', '_median', '_stdev']].describe()"
   ]
  },
  {
   "cell_type": "code",
   "execution_count": null,
   "id": "3bcf3313",
   "metadata": {},
   "outputs": [],
   "source": []
  },
  {
   "cell_type": "code",
   "execution_count": 67,
   "id": "9d58f6c6",
   "metadata": {},
   "outputs": [],
   "source": [
    "#df.to_file(\"linear_model_sv.geojson\", driver='GeoJSON')"
   ]
  },
  {
   "cell_type": "code",
   "execution_count": 60,
   "id": "d5b0c3bb",
   "metadata": {},
   "outputs": [],
   "source": [
    "# df2 = pd.read_csv(\"Data_Alb_cov_for_tool.csv\")\n",
    "# df2.replace(-9999,0,inplace = True)"
   ]
  },
  {
   "cell_type": "code",
   "execution_count": 61,
   "id": "a00d3e19",
   "metadata": {},
   "outputs": [],
   "source": [
    "# data_minmax = MinMaxScaler().fit_transform(df2)\n",
    "# data_minmax = pd.DataFrame(data_minmax,\n",
    "#                            index=df2.index,\n",
    "#                            columns=df2.columns)"
   ]
  },
  {
   "cell_type": "code",
   "execution_count": 63,
   "id": "bbb540f8",
   "metadata": {},
   "outputs": [],
   "source": [
    "# data_minmax.to_csv(\"Data_Alb_cov_for_tool_fixed.csv\")"
   ]
  }
 ],
 "metadata": {
  "kernelspec": {
   "display_name": "Python 3 (ipykernel)",
   "language": "python",
   "name": "python3"
  },
  "language_info": {
   "codemirror_mode": {
    "name": "ipython",
    "version": 3
   },
   "file_extension": ".py",
   "mimetype": "text/x-python",
   "name": "python",
   "nbconvert_exporter": "python",
   "pygments_lexer": "ipython3",
   "version": "3.8.10"
  }
 },
 "nbformat": 4,
 "nbformat_minor": 5
}
